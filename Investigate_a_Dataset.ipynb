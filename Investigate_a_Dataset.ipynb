{
 "cells": [
  {
   "cell_type": "markdown",
   "metadata": {},
   "source": [
    "# Project: TMDb dataset\n",
    "\n",
    "## Table of Contents\n",
    "<ul>\n",
    "<li><a href=\"#intro\">Introduction</a></li>\n",
    "<li><a href=\"#wrangling\">Data Wrangling</a></li>\n",
    "<li><a href=\"#eda\">Exploratory Data Analysis</a></li>\n",
    "<li><a href=\"#conclusions\">Conclusions</a></li>\n",
    "</ul>"
   ]
  },
  {
   "cell_type": "markdown",
   "metadata": {},
   "source": [
    "<a id='intro'></a>\n",
    "## 1. Introduction"
   ]
  },
  {
   "cell_type": "code",
   "execution_count": 648,
   "metadata": {},
   "outputs": [],
   "source": [
    "# Use this cell to set up import statements for all of the packages that you\n",
    "#   plan to use.\n",
    "import numpy as np\n",
    "import pandas as pd\n",
    "import matplotlib.pyplot as plt\n",
    "import seaborn as sns\n",
    "\n",
    "%matplotlib inline\n",
    "\n",
    "# Remember to include a 'magic word' so that your visualizations are plotted\n",
    "#   inline with the notebook. See this page for more:\n",
    "#   http://ipython.readthedocs.io/en/stable/interactive/magics.html\n",
    "df = pd.read_csv('tmdb-movies.csv')"
   ]
  },
  {
   "cell_type": "markdown",
   "metadata": {},
   "source": [
    "<a id='wrangling'></a>\n",
    "## 2. Data Wrangling\n",
    "\n",
    "> **Tip**: In this section of the report, you will load in the data, check for cleanliness, and then trim and clean your dataset for analysis. Make sure that you document your steps carefully and justify your cleaning decisions.\n",
    "\n",
    "### 2.1. General Properties"
   ]
  },
  {
   "cell_type": "code",
   "execution_count": 649,
   "metadata": {},
   "outputs": [
    {
     "data": {
      "text/plain": [
       "(10866, 21)"
      ]
     },
     "execution_count": 649,
     "metadata": {},
     "output_type": "execute_result"
    }
   ],
   "source": [
    "# Load your data and print out a few lines. Perform operations to inspect data\n",
    "#   types and look for instances of missing or possibly errant data.\n",
    "df.shape"
   ]
  },
  {
   "cell_type": "code",
   "execution_count": 650,
   "metadata": {},
   "outputs": [
    {
     "data": {
      "text/plain": [
       "Index(['id', 'imdb_id', 'popularity', 'budget', 'revenue', 'original_title',\n",
       "       'cast', 'homepage', 'director', 'tagline', 'keywords', 'overview',\n",
       "       'runtime', 'genres', 'production_companies', 'release_date',\n",
       "       'vote_count', 'vote_average', 'release_year', 'budget_adj',\n",
       "       'revenue_adj'],\n",
       "      dtype='object')"
      ]
     },
     "execution_count": 650,
     "metadata": {},
     "output_type": "execute_result"
    }
   ],
   "source": [
    "df.columns"
   ]
  },
  {
   "cell_type": "code",
   "execution_count": 651,
   "metadata": {},
   "outputs": [
    {
     "name": "stdout",
     "output_type": "stream",
     "text": [
      "<class 'pandas.core.frame.DataFrame'>\n",
      "RangeIndex: 10866 entries, 0 to 10865\n",
      "Data columns (total 21 columns):\n",
      "id                      10866 non-null int64\n",
      "imdb_id                 10856 non-null object\n",
      "popularity              10866 non-null float64\n",
      "budget                  10866 non-null int64\n",
      "revenue                 10866 non-null int64\n",
      "original_title          10866 non-null object\n",
      "cast                    10790 non-null object\n",
      "homepage                2936 non-null object\n",
      "director                10822 non-null object\n",
      "tagline                 8042 non-null object\n",
      "keywords                9373 non-null object\n",
      "overview                10862 non-null object\n",
      "runtime                 10866 non-null int64\n",
      "genres                  10843 non-null object\n",
      "production_companies    9836 non-null object\n",
      "release_date            10866 non-null object\n",
      "vote_count              10866 non-null int64\n",
      "vote_average            10866 non-null float64\n",
      "release_year            10866 non-null int64\n",
      "budget_adj              10866 non-null float64\n",
      "revenue_adj             10866 non-null float64\n",
      "dtypes: float64(4), int64(6), object(11)\n",
      "memory usage: 1.7+ MB\n"
     ]
    }
   ],
   "source": [
    "df.info()"
   ]
  },
  {
   "cell_type": "code",
   "execution_count": 652,
   "metadata": {},
   "outputs": [
    {
     "data": {
      "text/plain": [
       "id                         0\n",
       "imdb_id                   10\n",
       "popularity                 0\n",
       "budget                     0\n",
       "revenue                    0\n",
       "original_title             0\n",
       "cast                      76\n",
       "homepage                7930\n",
       "director                  44\n",
       "tagline                 2824\n",
       "keywords                1493\n",
       "overview                   4\n",
       "runtime                    0\n",
       "genres                    23\n",
       "production_companies    1030\n",
       "release_date               0\n",
       "vote_count                 0\n",
       "vote_average               0\n",
       "release_year               0\n",
       "budget_adj                 0\n",
       "revenue_adj                0\n",
       "dtype: int64"
      ]
     },
     "execution_count": 652,
     "metadata": {},
     "output_type": "execute_result"
    }
   ],
   "source": [
    "df.isna().sum()"
   ]
  },
  {
   "cell_type": "markdown",
   "metadata": {},
   "source": [
    "### 2.2. Data Cleaning (Replace this with more specific notes!)"
   ]
  },
  {
   "cell_type": "code",
   "execution_count": 653,
   "metadata": {},
   "outputs": [],
   "source": [
    "# Considering the 2 questions chosen, select \n",
    "#[id, original_title, budget, revenue, cast, director, vote_count, vote_average, release_year, budget_adj, revenue_adj]\n",
    "df = df[['id', 'original_title', 'budget', 'revenue', 'cast', 'director', 'vote_count', 'vote_average', 'release_year', 'budget_adj', 'revenue_adj']]"
   ]
  },
  {
   "cell_type": "code",
   "execution_count": 654,
   "metadata": {},
   "outputs": [],
   "source": [
    "#drop na\n",
    "df.dropna(inplace = True)"
   ]
  },
  {
   "cell_type": "code",
   "execution_count": 655,
   "metadata": {},
   "outputs": [],
   "source": [
    "#clean all that budget == 0\n",
    "\n",
    "df.query('budget != 0', inplace = True)"
   ]
  },
  {
   "cell_type": "code",
   "execution_count": 656,
   "metadata": {},
   "outputs": [
    {
     "data": {
      "text/plain": [
       "(5155, 11)"
      ]
     },
     "execution_count": 656,
     "metadata": {},
     "output_type": "execute_result"
    }
   ],
   "source": [
    "df.shape"
   ]
  },
  {
   "cell_type": "markdown",
   "metadata": {},
   "source": [
    "<a id='eda'></a>\n",
    "## 3. Exploratory Data Analysis\n",
    "\n",
    "\n",
    "\n",
    "### 3.1. Which word in the title is most profitable\n",
    "#### 3.1.1. Explore the nature of titles"
   ]
  },
  {
   "cell_type": "code",
   "execution_count": 657,
   "metadata": {},
   "outputs": [
    {
     "data": {
      "text/plain": [
       "array(['Jurassic World', 'Mad Max: Fury Road', 'Insurgent', ...,\n",
       "       'Fantastic Voyage', 'The Ghost & Mr. Chicken',\n",
       "       'Manos: The Hands of Fate'], dtype=object)"
      ]
     },
     "execution_count": 657,
     "metadata": {},
     "output_type": "execute_result"
    }
   ],
   "source": [
    "df.original_title.unique()"
   ]
  },
  {
   "cell_type": "code",
   "execution_count": 658,
   "metadata": {},
   "outputs": [],
   "source": [
    "df_title = df[['id', 'original_title', 'budget', 'revenue', 'revenue_adj']]"
   ]
  },
  {
   "cell_type": "code",
   "execution_count": 659,
   "metadata": {},
   "outputs": [
    {
     "name": "stderr",
     "output_type": "stream",
     "text": [
      "C:\\Users\\PC\\Anaconda3\\lib\\site-packages\\ipykernel_launcher.py:1: SettingWithCopyWarning: \n",
      "A value is trying to be set on a copy of a slice from a DataFrame.\n",
      "Try using .loc[row_indexer,col_indexer] = value instead\n",
      "\n",
      "See the caveats in the documentation: http://pandas.pydata.org/pandas-docs/stable/user_guide/indexing.html#returning-a-view-versus-a-copy\n",
      "  \"\"\"Entry point for launching an IPython kernel.\n"
     ]
    }
   ],
   "source": [
    "df_title['clean_title'] = df['original_title'].str.replace('[^\\w\\s]', '')"
   ]
  },
  {
   "cell_type": "code",
   "execution_count": 660,
   "metadata": {},
   "outputs": [
    {
     "data": {
      "text/plain": [
       "array(['Jurassic World', 'Mad Max Fury Road', 'Insurgent', ...,\n",
       "       'Fantastic Voyage', 'The Ghost  Mr Chicken',\n",
       "       'Manos The Hands of Fate'], dtype=object)"
      ]
     },
     "execution_count": 660,
     "metadata": {},
     "output_type": "execute_result"
    }
   ],
   "source": [
    "df_title.clean_title.unique()"
   ]
  },
  {
   "cell_type": "code",
   "execution_count": 718,
   "metadata": {},
   "outputs": [
    {
     "name": "stdout",
     "output_type": "stream",
     "text": [
      "20.0\n"
     ]
    }
   ],
   "source": [
    "def word_count(x):\n",
    "    return(len(x.split(' ')))\n",
    "\n",
    "wrd_len = np.array([])\n",
    "for i, s in enumerate(df_title.clean_title):\n",
    "    wrd_len = np.append(wrd_len, word_count(s))\n",
    "print(wrd_len.max())\n",
    "# not very useful, just curious"
   ]
  },
  {
   "cell_type": "code",
   "execution_count": 719,
   "metadata": {},
   "outputs": [
    {
     "name": "stdout",
     "output_type": "stream",
     "text": [
      "5098 Those Magnificent Men in Their Flying Machines or How I Flew from London to Paris in 25 hours 11 minutes\n"
     ]
    }
   ],
   "source": [
    "for i, n in enumerate(df_title.clean_title):\n",
    "    if word_count(n) == 20:\n",
    "        print(i, n)"
   ]
  },
  {
   "cell_type": "markdown",
   "metadata": {},
   "source": [
    "#### 3.1.2. To split the title name into words (The following method came from https://medium.com/@sureshssarda/pandas-splitting-exploding-a-column-into-multiple-rows-b1b1d59ea12e)"
   ]
  },
  {
   "cell_type": "code",
   "execution_count": 720,
   "metadata": {},
   "outputs": [],
   "source": [
    "df_title_analyse = pd.DataFrame(df_title.clean_title.str.split(' ').tolist(), index = [df_title.budget, df_title.revenue, df_title.revenue_adj, df_title.original_title]).stack()"
   ]
  },
  {
   "cell_type": "code",
   "execution_count": 721,
   "metadata": {},
   "outputs": [
    {
     "data": {
      "text/plain": [
       "budget     revenue     revenue_adj   original_title             \n",
       "150000000  1513528810  1.392446e+09  Jurassic World            0    Jurassic\n",
       "                                                               1       World\n",
       "           378436354   3.481613e+08  Mad Max: Fury Road        0         Mad\n",
       "                                                               1         Max\n",
       "                                                               2        Fury\n",
       "                                                                      ...   \n",
       "19000      0           0.000000e+00  Manos: The Hands of Fate  0       Manos\n",
       "                                                               1         The\n",
       "                                                               2       Hands\n",
       "                                                               3          of\n",
       "                                                               4        Fate\n",
       "Length: 13942, dtype: object"
      ]
     },
     "execution_count": 721,
     "metadata": {},
     "output_type": "execute_result"
    }
   ],
   "source": [
    "df_title_analyse"
   ]
  },
  {
   "cell_type": "code",
   "execution_count": 722,
   "metadata": {},
   "outputs": [],
   "source": [
    "df_title_analyse = df_title_analyse.reset_index([0, 'budget', 'revenue', 'revenue_adj', 'original_title'])"
   ]
  },
  {
   "cell_type": "code",
   "execution_count": 723,
   "metadata": {},
   "outputs": [],
   "source": [
    "df_title_analyse.columns = ['budget', 'revenue', 'revenue_adj', 'original_title', 'words']"
   ]
  },
  {
   "cell_type": "code",
   "execution_count": 724,
   "metadata": {},
   "outputs": [
    {
     "data": {
      "text/html": [
       "<div>\n",
       "<style scoped>\n",
       "    .dataframe tbody tr th:only-of-type {\n",
       "        vertical-align: middle;\n",
       "    }\n",
       "\n",
       "    .dataframe tbody tr th {\n",
       "        vertical-align: top;\n",
       "    }\n",
       "\n",
       "    .dataframe thead th {\n",
       "        text-align: right;\n",
       "    }\n",
       "</style>\n",
       "<table border=\"1\" class=\"dataframe\">\n",
       "  <thead>\n",
       "    <tr style=\"text-align: right;\">\n",
       "      <th></th>\n",
       "      <th>budget</th>\n",
       "      <th>revenue</th>\n",
       "      <th>revenue_adj</th>\n",
       "      <th>original_title</th>\n",
       "      <th>words</th>\n",
       "    </tr>\n",
       "  </thead>\n",
       "  <tbody>\n",
       "    <tr>\n",
       "      <td>0</td>\n",
       "      <td>150000000</td>\n",
       "      <td>1513528810</td>\n",
       "      <td>1.392446e+09</td>\n",
       "      <td>Jurassic World</td>\n",
       "      <td>Jurassic</td>\n",
       "    </tr>\n",
       "    <tr>\n",
       "      <td>1</td>\n",
       "      <td>150000000</td>\n",
       "      <td>1513528810</td>\n",
       "      <td>1.392446e+09</td>\n",
       "      <td>Jurassic World</td>\n",
       "      <td>World</td>\n",
       "    </tr>\n",
       "    <tr>\n",
       "      <td>2</td>\n",
       "      <td>150000000</td>\n",
       "      <td>378436354</td>\n",
       "      <td>3.481613e+08</td>\n",
       "      <td>Mad Max: Fury Road</td>\n",
       "      <td>Mad</td>\n",
       "    </tr>\n",
       "    <tr>\n",
       "      <td>3</td>\n",
       "      <td>150000000</td>\n",
       "      <td>378436354</td>\n",
       "      <td>3.481613e+08</td>\n",
       "      <td>Mad Max: Fury Road</td>\n",
       "      <td>Max</td>\n",
       "    </tr>\n",
       "    <tr>\n",
       "      <td>4</td>\n",
       "      <td>150000000</td>\n",
       "      <td>378436354</td>\n",
       "      <td>3.481613e+08</td>\n",
       "      <td>Mad Max: Fury Road</td>\n",
       "      <td>Fury</td>\n",
       "    </tr>\n",
       "  </tbody>\n",
       "</table>\n",
       "</div>"
      ],
      "text/plain": [
       "      budget     revenue   revenue_adj      original_title     words\n",
       "0  150000000  1513528810  1.392446e+09      Jurassic World  Jurassic\n",
       "1  150000000  1513528810  1.392446e+09      Jurassic World     World\n",
       "2  150000000   378436354  3.481613e+08  Mad Max: Fury Road       Mad\n",
       "3  150000000   378436354  3.481613e+08  Mad Max: Fury Road       Max\n",
       "4  150000000   378436354  3.481613e+08  Mad Max: Fury Road      Fury"
      ]
     },
     "execution_count": 724,
     "metadata": {},
     "output_type": "execute_result"
    }
   ],
   "source": [
    "df_title_analyse.head()"
   ]
  },
  {
   "cell_type": "code",
   "execution_count": 725,
   "metadata": {},
   "outputs": [
    {
     "data": {
      "text/plain": [
       "(13942, 5)"
      ]
     },
     "execution_count": 725,
     "metadata": {},
     "output_type": "execute_result"
    }
   ],
   "source": [
    "df_title_analyse.shape"
   ]
  },
  {
   "cell_type": "markdown",
   "metadata": {},
   "source": [
    "#### 3.1.3. Combine words "
   ]
  },
  {
   "cell_type": "code",
   "execution_count": 726,
   "metadata": {},
   "outputs": [],
   "source": [
    "df_title_analyse.words = df_title_analyse.words.str.lower()"
   ]
  },
  {
   "cell_type": "code",
   "execution_count": 727,
   "metadata": {},
   "outputs": [
    {
     "data": {
      "text/plain": [
       "the         1563\n",
       "of           451\n",
       "a            158\n",
       "in           141\n",
       "2            127\n",
       "and          125\n",
       "to            97\n",
       "              95\n",
       "man           71\n",
       "dead          52\n",
       "ii            48\n",
       "i             47\n",
       "love          46\n",
       "for           44\n",
       "on            43\n",
       "night         41\n",
       "with          39\n",
       "day           39\n",
       "house         37\n",
       "movie         37\n",
       "me            37\n",
       "from          37\n",
       "last          36\n",
       "part          35\n",
       "my            35\n",
       "3             33\n",
       "you           32\n",
       "life          32\n",
       "dark          31\n",
       "american      31\n",
       "big           30\n",
       "little        30\n",
       "black         29\n",
       "iii           26\n",
       "star          26\n",
       "girl          26\n",
       "new           25\n",
       "at            25\n",
       "story         24\n",
       "kill          24\n",
       "all           24\n",
       "out           23\n",
       "good          23\n",
       "death         23\n",
       "days          23\n",
       "one           23\n",
       "world         22\n",
       "city          22\n",
       "red           22\n",
       "time          22\n",
       "Name: words, dtype: int64"
      ]
     },
     "execution_count": 727,
     "metadata": {},
     "output_type": "execute_result"
    }
   ],
   "source": [
    "# pick prepositions manually\n",
    "df_title_analyse.words.value_counts()[:50]"
   ]
  },
  {
   "cell_type": "code",
   "execution_count": 728,
   "metadata": {},
   "outputs": [],
   "source": [
    "prepositions = ['the', 'of', 'a', 'in', 'and', 'to', '2', 'on', 'for', 'with',\n",
    "               '3', 'from', 'at', 'it', 'is', 'one', 'all', ' ']"
   ]
  },
  {
   "cell_type": "code",
   "execution_count": 729,
   "metadata": {},
   "outputs": [],
   "source": [
    "df_title_analyse.drop(df_title_analyse[df_title_analyse.words.isin(prepositions)].index, inplace=True)"
   ]
  },
  {
   "cell_type": "code",
   "execution_count": 730,
   "metadata": {},
   "outputs": [
    {
     "data": {
      "text/plain": [
       "(10972, 5)"
      ]
     },
     "execution_count": 730,
     "metadata": {},
     "output_type": "execute_result"
    }
   ],
   "source": [
    "df_title_analyse.shape"
   ]
  },
  {
   "cell_type": "code",
   "execution_count": 731,
   "metadata": {},
   "outputs": [
    {
     "data": {
      "text/plain": [
       "              95\n",
       "man           71\n",
       "dead          52\n",
       "ii            48\n",
       "i             47\n",
       "              ..\n",
       "goldmember     1\n",
       "dorothy        1\n",
       "rocks          1\n",
       "penis          1\n",
       "torn           1\n",
       "Name: words, Length: 4889, dtype: int64"
      ]
     },
     "execution_count": 731,
     "metadata": {},
     "output_type": "execute_result"
    }
   ],
   "source": [
    "df_title_analyse.words.value_counts()"
   ]
  },
  {
   "cell_type": "code",
   "execution_count": 732,
   "metadata": {},
   "outputs": [
    {
     "data": {
      "text/html": [
       "<div>\n",
       "<style scoped>\n",
       "    .dataframe tbody tr th:only-of-type {\n",
       "        vertical-align: middle;\n",
       "    }\n",
       "\n",
       "    .dataframe tbody tr th {\n",
       "        vertical-align: top;\n",
       "    }\n",
       "\n",
       "    .dataframe thead th {\n",
       "        text-align: right;\n",
       "    }\n",
       "</style>\n",
       "<table border=\"1\" class=\"dataframe\">\n",
       "  <thead>\n",
       "    <tr style=\"text-align: right;\">\n",
       "      <th></th>\n",
       "      <th>budget</th>\n",
       "      <th>revenue</th>\n",
       "      <th>revenue_adj</th>\n",
       "      <th>original_title</th>\n",
       "      <th>words</th>\n",
       "    </tr>\n",
       "  </thead>\n",
       "  <tbody>\n",
       "    <tr>\n",
       "      <td>0</td>\n",
       "      <td>150000000</td>\n",
       "      <td>1513528810</td>\n",
       "      <td>1.392446e+09</td>\n",
       "      <td>Jurassic World</td>\n",
       "      <td>jurassic</td>\n",
       "    </tr>\n",
       "    <tr>\n",
       "      <td>1</td>\n",
       "      <td>150000000</td>\n",
       "      <td>1513528810</td>\n",
       "      <td>1.392446e+09</td>\n",
       "      <td>Jurassic World</td>\n",
       "      <td>world</td>\n",
       "    </tr>\n",
       "    <tr>\n",
       "      <td>2</td>\n",
       "      <td>150000000</td>\n",
       "      <td>378436354</td>\n",
       "      <td>3.481613e+08</td>\n",
       "      <td>Mad Max: Fury Road</td>\n",
       "      <td>mad</td>\n",
       "    </tr>\n",
       "    <tr>\n",
       "      <td>3</td>\n",
       "      <td>150000000</td>\n",
       "      <td>378436354</td>\n",
       "      <td>3.481613e+08</td>\n",
       "      <td>Mad Max: Fury Road</td>\n",
       "      <td>max</td>\n",
       "    </tr>\n",
       "    <tr>\n",
       "      <td>4</td>\n",
       "      <td>150000000</td>\n",
       "      <td>378436354</td>\n",
       "      <td>3.481613e+08</td>\n",
       "      <td>Mad Max: Fury Road</td>\n",
       "      <td>fury</td>\n",
       "    </tr>\n",
       "  </tbody>\n",
       "</table>\n",
       "</div>"
      ],
      "text/plain": [
       "      budget     revenue   revenue_adj      original_title     words\n",
       "0  150000000  1513528810  1.392446e+09      Jurassic World  jurassic\n",
       "1  150000000  1513528810  1.392446e+09      Jurassic World     world\n",
       "2  150000000   378436354  3.481613e+08  Mad Max: Fury Road       mad\n",
       "3  150000000   378436354  3.481613e+08  Mad Max: Fury Road       max\n",
       "4  150000000   378436354  3.481613e+08  Mad Max: Fury Road      fury"
      ]
     },
     "execution_count": 732,
     "metadata": {},
     "output_type": "execute_result"
    }
   ],
   "source": [
    "df_title_analyse.head()"
   ]
  },
  {
   "cell_type": "code",
   "execution_count": 733,
   "metadata": {},
   "outputs": [
    {
     "name": "stdout",
     "output_type": "stream",
     "text": [
      "<class 'pandas.core.frame.DataFrame'>\n",
      "Int64Index: 10972 entries, 0 to 13941\n",
      "Data columns (total 5 columns):\n",
      "budget            10972 non-null int64\n",
      "revenue           10972 non-null int64\n",
      "revenue_adj       10972 non-null float64\n",
      "original_title    10972 non-null object\n",
      "words             10972 non-null object\n",
      "dtypes: float64(1), int64(2), object(2)\n",
      "memory usage: 514.3+ KB\n"
     ]
    }
   ],
   "source": [
    "df_title_analyse.info()"
   ]
  },
  {
   "cell_type": "markdown",
   "metadata": {},
   "source": [
    "#### 3.1.4. Results and visualizations"
   ]
  },
  {
   "cell_type": "code",
   "execution_count": 734,
   "metadata": {},
   "outputs": [],
   "source": [
    "df_title_result = df_title_analyse.groupby(['words']).sum()"
   ]
  },
  {
   "cell_type": "code",
   "execution_count": 735,
   "metadata": {},
   "outputs": [],
   "source": [
    "df_title_result['revenue_budget_ratio'] = df_title_result.revenue / df_title_result.budget"
   ]
  },
  {
   "cell_type": "code",
   "execution_count": 736,
   "metadata": {},
   "outputs": [],
   "source": [
    "# define plot word numbers:\n",
    "n = 20"
   ]
  },
  {
   "cell_type": "code",
   "execution_count": 737,
   "metadata": {},
   "outputs": [],
   "source": [
    "df_plot_ratio = df_title_result.sort_values(by = 'revenue_budget_ratio', ascending = False)[:n]\n",
    "df_plot_revenue = df_title_result.sort_values(by = 'revenue_adj', ascending = False)[1:n+1]"
   ]
  },
  {
   "cell_type": "code",
   "execution_count": 738,
   "metadata": {},
   "outputs": [
    {
     "data": {
      "image/png": "[encoded data removed]",
      "text/plain": [
       "<Figure size 1440x720 with 1 Axes>"
      ]
     },
     "metadata": {
      "needs_background": "light"
     },
     "output_type": "display_data"
    },
    {
     "name": "stdout",
     "output_type": "stream",
     "text": [
      "According to ratio, top 20 beneficial words in movie titles are ['nada', 'blair', 'marriage', 'eraserhead', 'flamingos', 'gallows', 'graffiti', 'napoleon', 'facing', 'catfish', 'extraterrestrial', 'saturday', 'monty', 'fireproof', 'unfriended', 'primer', 'mum', 'hundred', 'net', 'amy']\n"
     ]
    }
   ],
   "source": [
    "fig1 = plt.figure(figsize = (20,10))\n",
    "fig1.suptitle('Revenue/budget ratio', fontsize = 24)\n",
    "\n",
    "rt = fig1.add_subplot(111)\n",
    "rt.bar(x = df_plot_ratio.index, height = df_plot_ratio.revenue_budget_ratio)\n",
    "plt.show()\n",
    "print(\"According to ratio, top 20 beneficial words in movie titles are {}\".format(list(df_plot_ratio.index)))"
   ]
  },
  {
   "cell_type": "code",
   "execution_count": 739,
   "metadata": {},
   "outputs": [
    {
     "data": {
      "image/png": "[encoded data removed]",
      "text/plain": [
       "<Figure size 1440x720 with 1 Axes>"
      ]
     },
     "metadata": {
      "needs_background": "light"
     },
     "output_type": "display_data"
    },
    {
     "name": "stdout",
     "output_type": "stream",
     "text": [
      "According to revenue, top 20 beneficial words in movie titles are ['star', 'harry', 'part', 'potter', 'wars', 'ii', 'man', 'day', 'age', 'world', 'i', 'dark', 'iii', 'black', 'me', 'spiderman', 'story', 'movie', 'pirates', 'king']\n"
     ]
    }
   ],
   "source": [
    "fig2 = plt.figure(figsize = (20, 10))\n",
    "fig2.suptitle('Revenue', fontsize = 24)\n",
    "\n",
    "rvn = fig2.add_subplot(111)\n",
    "rvn.bar(x = df_plot_revenue.index, height = df_plot_revenue.revenue_adj)\n",
    "plt.show()\n",
    "print(\"According to revenue, top 20 beneficial words in movie titles are {}\".format(list(df_plot_revenue.index)))"
   ]
  },
  {
   "cell_type": "code",
   "execution_count": 740,
   "metadata": {},
   "outputs": [],
   "source": [
    "prof_words_ratio = list(df_plot_ratio.index)\n",
    "prof_words_reven = list(df_plot_revenue.index)"
   ]
  },
  {
   "cell_type": "code",
   "execution_count": 742,
   "metadata": {},
   "outputs": [
    {
     "name": "stdout",
     "output_type": "stream",
     "text": [
      "nada False\n",
      "blair False\n",
      "marriage False\n",
      "eraserhead False\n",
      "flamingos False\n",
      "gallows False\n",
      "graffiti False\n",
      "napoleon False\n",
      "facing False\n",
      "catfish False\n",
      "extraterrestrial False\n",
      "saturday False\n",
      "monty False\n",
      "fireproof False\n",
      "unfriended False\n",
      "primer False\n",
      "mum False\n",
      "hundred False\n",
      "net False\n",
      "amy False\n"
     ]
    }
   ],
   "source": [
    "for i in prof_words_ratio:\n",
    "    print(i, i in prof_words_reven)"
   ]
  },
  {
   "cell_type": "code",
   "execution_count": 746,
   "metadata": {},
   "outputs": [
    {
     "data": {
      "text/plain": [
       "{'amy',\n",
       " 'blair',\n",
       " 'catfish',\n",
       " 'eraserhead',\n",
       " 'extraterrestrial',\n",
       " 'facing',\n",
       " 'fireproof',\n",
       " 'flamingos',\n",
       " 'gallows',\n",
       " 'graffiti',\n",
       " 'hundred',\n",
       " 'marriage',\n",
       " 'monty',\n",
       " 'mum',\n",
       " 'nada',\n",
       " 'napoleon',\n",
       " 'net',\n",
       " 'primer',\n",
       " 'saturday',\n",
       " 'unfriended'}"
      ]
     },
     "execution_count": 746,
     "metadata": {},
     "output_type": "execute_result"
    }
   ],
   "source": [
    "# Another way of doing it\n",
    "set(list(prof_words_ratio)).difference(list(prof_words_reven))"
   ]
  },
  {
   "cell_type": "code",
   "execution_count": 747,
   "metadata": {},
   "outputs": [
    {
     "data": {
      "text/html": [
       "<div>\n",
       "<style scoped>\n",
       "    .dataframe tbody tr th:only-of-type {\n",
       "        vertical-align: middle;\n",
       "    }\n",
       "\n",
       "    .dataframe tbody tr th {\n",
       "        vertical-align: top;\n",
       "    }\n",
       "\n",
       "    .dataframe thead th {\n",
       "        text-align: right;\n",
       "    }\n",
       "</style>\n",
       "<table border=\"1\" class=\"dataframe\">\n",
       "  <thead>\n",
       "    <tr style=\"text-align: right;\">\n",
       "      <th></th>\n",
       "      <th>budget</th>\n",
       "      <th>revenue</th>\n",
       "      <th>revenue_adj</th>\n",
       "      <th>original_title</th>\n",
       "      <th>words</th>\n",
       "    </tr>\n",
       "  </thead>\n",
       "  <tbody>\n",
       "    <tr>\n",
       "      <td>265</td>\n",
       "      <td>1000000</td>\n",
       "      <td>62882090</td>\n",
       "      <td>5.785150e+07</td>\n",
       "      <td>Unfriended</td>\n",
       "      <td>unfriended</td>\n",
       "    </tr>\n",
       "    <tr>\n",
       "      <td>393</td>\n",
       "      <td>100000</td>\n",
       "      <td>42664410</td>\n",
       "      <td>3.925124e+07</td>\n",
       "      <td>The Gallows</td>\n",
       "      <td>gallows</td>\n",
       "    </tr>\n",
       "    <tr>\n",
       "      <td>1189</td>\n",
       "      <td>3500000</td>\n",
       "      <td>237113184</td>\n",
       "      <td>8.530813e+08</td>\n",
       "      <td>Saturday Night Fever</td>\n",
       "      <td>saturday</td>\n",
       "    </tr>\n",
       "    <tr>\n",
       "      <td>1207</td>\n",
       "      <td>10000</td>\n",
       "      <td>7000000</td>\n",
       "      <td>2.518447e+07</td>\n",
       "      <td>Eraserhead</td>\n",
       "      <td>eraserhead</td>\n",
       "    </tr>\n",
       "    <tr>\n",
       "      <td>2420</td>\n",
       "      <td>30000</td>\n",
       "      <td>3045943</td>\n",
       "      <td>3.045943e+06</td>\n",
       "      <td>Catfish</td>\n",
       "      <td>catfish</td>\n",
       "    </tr>\n",
       "    <tr>\n",
       "      <td>2666</td>\n",
       "      <td>25000</td>\n",
       "      <td>248000000</td>\n",
       "      <td>3.246451e+08</td>\n",
       "      <td>The Blair Witch Project</td>\n",
       "      <td>blair</td>\n",
       "    </tr>\n",
       "    <tr>\n",
       "      <td>3822</td>\n",
       "      <td>500000</td>\n",
       "      <td>33456317</td>\n",
       "      <td>3.388411e+07</td>\n",
       "      <td>Fireproof</td>\n",
       "      <td>fireproof</td>\n",
       "    </tr>\n",
       "    <tr>\n",
       "      <td>3923</td>\n",
       "      <td>170000</td>\n",
       "      <td>0</td>\n",
       "      <td>0.000000e+00</td>\n",
       "      <td>Mum &amp; Dad</td>\n",
       "      <td>mum</td>\n",
       "    </tr>\n",
       "    <tr>\n",
       "      <td>4385</td>\n",
       "      <td>1</td>\n",
       "      <td>1378</td>\n",
       "      <td>1.335831e+03</td>\n",
       "      <td>Love, Wedding, Marriage</td>\n",
       "      <td>marriage</td>\n",
       "    </tr>\n",
       "    <tr>\n",
       "      <td>4413</td>\n",
       "      <td>93</td>\n",
       "      <td>2500000</td>\n",
       "      <td>2.423495e+06</td>\n",
       "      <td>From Prada to Nada</td>\n",
       "      <td>nada</td>\n",
       "    </tr>\n",
       "    <tr>\n",
       "      <td>6452</td>\n",
       "      <td>3500000</td>\n",
       "      <td>257850122</td>\n",
       "      <td>3.502792e+08</td>\n",
       "      <td>The Full Monty</td>\n",
       "      <td>monty</td>\n",
       "    </tr>\n",
       "    <tr>\n",
       "      <td>6470</td>\n",
       "      <td>250000</td>\n",
       "      <td>12021272</td>\n",
       "      <td>1.633042e+07</td>\n",
       "      <td>Chasing Amy</td>\n",
       "      <td>amy</td>\n",
       "    </tr>\n",
       "    <tr>\n",
       "      <td>7819</td>\n",
       "      <td>169000</td>\n",
       "      <td>18564702</td>\n",
       "      <td>2.072866e+07</td>\n",
       "      <td>Keeping Mum</td>\n",
       "      <td>mum</td>\n",
       "    </tr>\n",
       "    <tr>\n",
       "      <td>8596</td>\n",
       "      <td>100000</td>\n",
       "      <td>10178331</td>\n",
       "      <td>1.100959e+07</td>\n",
       "      <td>Facing the Giants</td>\n",
       "      <td>facing</td>\n",
       "    </tr>\n",
       "    <tr>\n",
       "      <td>8904</td>\n",
       "      <td>7000</td>\n",
       "      <td>424760</td>\n",
       "      <td>4.903622e+05</td>\n",
       "      <td>Primer</td>\n",
       "      <td>primer</td>\n",
       "    </tr>\n",
       "    <tr>\n",
       "      <td>9003</td>\n",
       "      <td>400000</td>\n",
       "      <td>46118097</td>\n",
       "      <td>5.324082e+07</td>\n",
       "      <td>Napoleon Dynamite</td>\n",
       "      <td>napoleon</td>\n",
       "    </tr>\n",
       "    <tr>\n",
       "      <td>9212</td>\n",
       "      <td>12000</td>\n",
       "      <td>6000000</td>\n",
       "      <td>3.128737e+07</td>\n",
       "      <td>Pink Flamingos</td>\n",
       "      <td>flamingos</td>\n",
       "    </tr>\n",
       "    <tr>\n",
       "      <td>10299</td>\n",
       "      <td>22000000</td>\n",
       "      <td>1106279658</td>\n",
       "      <td>1.583050e+09</td>\n",
       "      <td>The Net</td>\n",
       "      <td>net</td>\n",
       "    </tr>\n",
       "    <tr>\n",
       "      <td>11431</td>\n",
       "      <td>10500000</td>\n",
       "      <td>792910554</td>\n",
       "      <td>1.791694e+09</td>\n",
       "      <td>E.T. the Extra-Terrestrial</td>\n",
       "      <td>extraterrestrial</td>\n",
       "    </tr>\n",
       "    <tr>\n",
       "      <td>12658</td>\n",
       "      <td>400000</td>\n",
       "      <td>5028948</td>\n",
       "      <td>2.037640e+07</td>\n",
       "      <td>Monty Python and the Holy Grail</td>\n",
       "      <td>monty</td>\n",
       "    </tr>\n",
       "    <tr>\n",
       "      <td>13016</td>\n",
       "      <td>4000000</td>\n",
       "      <td>215880014</td>\n",
       "      <td>1.574815e+09</td>\n",
       "      <td>One Hundred and One Dalmatians</td>\n",
       "      <td>hundred</td>\n",
       "    </tr>\n",
       "    <tr>\n",
       "      <td>13694</td>\n",
       "      <td>777000</td>\n",
       "      <td>115000000</td>\n",
       "      <td>5.647834e+08</td>\n",
       "      <td>American Graffiti</td>\n",
       "      <td>graffiti</td>\n",
       "    </tr>\n",
       "  </tbody>\n",
       "</table>\n",
       "</div>"
      ],
      "text/plain": [
       "         budget     revenue   revenue_adj                   original_title  \\\n",
       "265     1000000    62882090  5.785150e+07                       Unfriended   \n",
       "393      100000    42664410  3.925124e+07                      The Gallows   \n",
       "1189    3500000   237113184  8.530813e+08             Saturday Night Fever   \n",
       "1207      10000     7000000  2.518447e+07                       Eraserhead   \n",
       "2420      30000     3045943  3.045943e+06                          Catfish   \n",
       "2666      25000   248000000  3.246451e+08          The Blair Witch Project   \n",
       "3822     500000    33456317  3.388411e+07                        Fireproof   \n",
       "3923     170000           0  0.000000e+00                        Mum & Dad   \n",
       "4385          1        1378  1.335831e+03          Love, Wedding, Marriage   \n",
       "4413         93     2500000  2.423495e+06               From Prada to Nada   \n",
       "6452    3500000   257850122  3.502792e+08                   The Full Monty   \n",
       "6470     250000    12021272  1.633042e+07                      Chasing Amy   \n",
       "7819     169000    18564702  2.072866e+07                      Keeping Mum   \n",
       "8596     100000    10178331  1.100959e+07                Facing the Giants   \n",
       "8904       7000      424760  4.903622e+05                           Primer   \n",
       "9003     400000    46118097  5.324082e+07                Napoleon Dynamite   \n",
       "9212      12000     6000000  3.128737e+07                   Pink Flamingos   \n",
       "10299  22000000  1106279658  1.583050e+09                          The Net   \n",
       "11431  10500000   792910554  1.791694e+09       E.T. the Extra-Terrestrial   \n",
       "12658    400000     5028948  2.037640e+07  Monty Python and the Holy Grail   \n",
       "13016   4000000   215880014  1.574815e+09   One Hundred and One Dalmatians   \n",
       "13694    777000   115000000  5.647834e+08                American Graffiti   \n",
       "\n",
       "                  words  \n",
       "265          unfriended  \n",
       "393             gallows  \n",
       "1189           saturday  \n",
       "1207         eraserhead  \n",
       "2420            catfish  \n",
       "2666              blair  \n",
       "3822          fireproof  \n",
       "3923                mum  \n",
       "4385           marriage  \n",
       "4413               nada  \n",
       "6452              monty  \n",
       "6470                amy  \n",
       "7819                mum  \n",
       "8596             facing  \n",
       "8904             primer  \n",
       "9003           napoleon  \n",
       "9212          flamingos  \n",
       "10299               net  \n",
       "11431  extraterrestrial  \n",
       "12658             monty  \n",
       "13016           hundred  \n",
       "13694          graffiti  "
      ]
     },
     "execution_count": 747,
     "metadata": {},
     "output_type": "execute_result"
    }
   ],
   "source": [
    "df_title_analyse[df_title_analyse.words.isin(prof_words_ratio)]"
   ]
  },
  {
   "cell_type": "code",
   "execution_count": 748,
   "metadata": {},
   "outputs": [
    {
     "data": {
      "text/html": [
       "<div>\n",
       "<style scoped>\n",
       "    .dataframe tbody tr th:only-of-type {\n",
       "        vertical-align: middle;\n",
       "    }\n",
       "\n",
       "    .dataframe tbody tr th {\n",
       "        vertical-align: top;\n",
       "    }\n",
       "\n",
       "    .dataframe thead th {\n",
       "        text-align: right;\n",
       "    }\n",
       "</style>\n",
       "<table border=\"1\" class=\"dataframe\">\n",
       "  <thead>\n",
       "    <tr style=\"text-align: right;\">\n",
       "      <th></th>\n",
       "      <th>budget</th>\n",
       "      <th>revenue</th>\n",
       "      <th>revenue_adj</th>\n",
       "      <th>original_title</th>\n",
       "      <th>words</th>\n",
       "    </tr>\n",
       "  </thead>\n",
       "  <tbody>\n",
       "    <tr>\n",
       "      <td>1</td>\n",
       "      <td>150000000</td>\n",
       "      <td>1513528810</td>\n",
       "      <td>1.392446e+09</td>\n",
       "      <td>Jurassic World</td>\n",
       "      <td>world</td>\n",
       "    </tr>\n",
       "    <tr>\n",
       "      <td>7</td>\n",
       "      <td>200000000</td>\n",
       "      <td>2068178225</td>\n",
       "      <td>1.902723e+09</td>\n",
       "      <td>Star Wars: The Force Awakens</td>\n",
       "      <td>star</td>\n",
       "    </tr>\n",
       "    <tr>\n",
       "      <td>8</td>\n",
       "      <td>200000000</td>\n",
       "      <td>2068178225</td>\n",
       "      <td>1.902723e+09</td>\n",
       "      <td>Star Wars: The Force Awakens</td>\n",
       "      <td>wars</td>\n",
       "    </tr>\n",
       "    <tr>\n",
       "      <td>30</td>\n",
       "      <td>280000000</td>\n",
       "      <td>1405035767</td>\n",
       "      <td>1.292632e+09</td>\n",
       "      <td>Avengers: Age of Ultron</td>\n",
       "      <td>age</td>\n",
       "    </tr>\n",
       "    <tr>\n",
       "      <td>45</td>\n",
       "      <td>160000000</td>\n",
       "      <td>650523427</td>\n",
       "      <td>5.984813e+08</td>\n",
       "      <td>The Hunger Games: Mockingjay - Part 2</td>\n",
       "      <td>part</td>\n",
       "    </tr>\n",
       "    <tr>\n",
       "      <td>...</td>\n",
       "      <td>...</td>\n",
       "      <td>...</td>\n",
       "      <td>...</td>\n",
       "      <td>...</td>\n",
       "      <td>...</td>\n",
       "    </tr>\n",
       "    <tr>\n",
       "      <td>13772</td>\n",
       "      <td>5600000</td>\n",
       "      <td>29950000</td>\n",
       "      <td>2.072709e+08</td>\n",
       "      <td>Those Magnificent Men in Their Flying Machines...</td>\n",
       "      <td>i</td>\n",
       "    </tr>\n",
       "    <tr>\n",
       "      <td>13796</td>\n",
       "      <td>20000000</td>\n",
       "      <td>12000000</td>\n",
       "      <td>8.304676e+07</td>\n",
       "      <td>The Greatest Story Ever Told</td>\n",
       "      <td>story</td>\n",
       "    </tr>\n",
       "    <tr>\n",
       "      <td>13876</td>\n",
       "      <td>650000</td>\n",
       "      <td>0</td>\n",
       "      <td>0.000000e+00</td>\n",
       "      <td>Day of the Woman</td>\n",
       "      <td>day</td>\n",
       "    </tr>\n",
       "    <tr>\n",
       "      <td>13882</td>\n",
       "      <td>2700000</td>\n",
       "      <td>0</td>\n",
       "      <td>0.000000e+00</td>\n",
       "      <td>I Wanna Hold Your Hand</td>\n",
       "      <td>i</td>\n",
       "    </tr>\n",
       "    <tr>\n",
       "      <td>13889</td>\n",
       "      <td>6800000</td>\n",
       "      <td>26518355</td>\n",
       "      <td>8.864292e+07</td>\n",
       "      <td>Damien: Omen II</td>\n",
       "      <td>ii</td>\n",
       "    </tr>\n",
       "  </tbody>\n",
       "</table>\n",
       "<p>545 rows × 5 columns</p>\n",
       "</div>"
      ],
      "text/plain": [
       "          budget     revenue   revenue_adj  \\\n",
       "1      150000000  1513528810  1.392446e+09   \n",
       "7      200000000  2068178225  1.902723e+09   \n",
       "8      200000000  2068178225  1.902723e+09   \n",
       "30     280000000  1405035767  1.292632e+09   \n",
       "45     160000000   650523427  5.984813e+08   \n",
       "...          ...         ...           ...   \n",
       "13772    5600000    29950000  2.072709e+08   \n",
       "13796   20000000    12000000  8.304676e+07   \n",
       "13876     650000           0  0.000000e+00   \n",
       "13882    2700000           0  0.000000e+00   \n",
       "13889    6800000    26518355  8.864292e+07   \n",
       "\n",
       "                                          original_title  words  \n",
       "1                                         Jurassic World  world  \n",
       "7                           Star Wars: The Force Awakens   star  \n",
       "8                           Star Wars: The Force Awakens   wars  \n",
       "30                               Avengers: Age of Ultron    age  \n",
       "45                 The Hunger Games: Mockingjay - Part 2   part  \n",
       "...                                                  ...    ...  \n",
       "13772  Those Magnificent Men in Their Flying Machines...      i  \n",
       "13796                       The Greatest Story Ever Told  story  \n",
       "13876                                   Day of the Woman    day  \n",
       "13882                             I Wanna Hold Your Hand      i  \n",
       "13889                                    Damien: Omen II     ii  \n",
       "\n",
       "[545 rows x 5 columns]"
      ]
     },
     "execution_count": 748,
     "metadata": {},
     "output_type": "execute_result"
    }
   ],
   "source": [
    "df_title_analyse[df_title_analyse.words.isin(prof_words_reven)]"
   ]
  },
  {
   "cell_type": "markdown",
   "metadata": {},
   "source": [
    "### 3.2. Top 3 profitable actors in different decades\n",
    "#### 3.2.1. Explore the nature of casts"
   ]
  },
  {
   "cell_type": "code",
   "execution_count": 749,
   "metadata": {},
   "outputs": [
    {
     "data": {
      "text/plain": [
       "array([\"Chris Pratt|Bryce Dallas Howard|Irrfan Khan|Vincent D'Onofrio|Nick Robinson\",\n",
       "       'Tom Hardy|Charlize Theron|Hugh Keays-Byrne|Nicholas Hoult|Josh Helman',\n",
       "       'Shailene Woodley|Theo James|Kate Winslet|Ansel Elgort|Miles Teller',\n",
       "       ...,\n",
       "       \"Stephen Boyd|Raquel Welch|Edmond O'Brien|Donald Pleasence|Arthur O'Connell\",\n",
       "       'Don Knotts|Joan Staley|Liam Redmond|Dick Sargent|Skip Homeier',\n",
       "       'Harold P. Warren|Tom Neyman|John Reynolds|Diane Mahree|Stephanie Nielson'],\n",
       "      dtype=object)"
      ]
     },
     "execution_count": 749,
     "metadata": {},
     "output_type": "execute_result"
    }
   ],
   "source": [
    "df.cast.unique()"
   ]
  },
  {
   "cell_type": "code",
   "execution_count": 750,
   "metadata": {},
   "outputs": [
    {
     "data": {
      "text/plain": [
       "Index(['id', 'original_title', 'budget', 'revenue', 'cast', 'director',\n",
       "       'vote_count', 'vote_average', 'release_year', 'budget_adj',\n",
       "       'revenue_adj'],\n",
       "      dtype='object')"
      ]
     },
     "execution_count": 750,
     "metadata": {},
     "output_type": "execute_result"
    }
   ],
   "source": [
    "df.columns"
   ]
  },
  {
   "cell_type": "code",
   "execution_count": 751,
   "metadata": {},
   "outputs": [],
   "source": [
    "df_cast = df[['original_title','cast', 'revenue', 'budget', 'revenue_adj', 'release_year']]"
   ]
  },
  {
   "cell_type": "code",
   "execution_count": 752,
   "metadata": {},
   "outputs": [
    {
     "data": {
      "text/plain": [
       "2015"
      ]
     },
     "execution_count": 752,
     "metadata": {},
     "output_type": "execute_result"
    }
   ],
   "source": [
    "df_cast.release_year.max()"
   ]
  },
  {
   "cell_type": "code",
   "execution_count": 753,
   "metadata": {},
   "outputs": [
    {
     "name": "stdout",
     "output_type": "stream",
     "text": [
      "<class 'pandas.core.frame.DataFrame'>\n",
      "Int64Index: 5155 entries, 0 to 10865\n",
      "Data columns (total 6 columns):\n",
      "original_title    5155 non-null object\n",
      "cast              5155 non-null object\n",
      "revenue           5155 non-null int64\n",
      "budget            5155 non-null int64\n",
      "revenue_adj       5155 non-null float64\n",
      "release_year      5155 non-null int64\n",
      "dtypes: float64(1), int64(3), object(2)\n",
      "memory usage: 441.9+ KB\n"
     ]
    }
   ],
   "source": [
    "df_cast.info()"
   ]
  },
  {
   "cell_type": "markdown",
   "metadata": {},
   "source": [
    "#### 3.2.2. Assign decade label"
   ]
  },
  {
   "cell_type": "code",
   "execution_count": 754,
   "metadata": {},
   "outputs": [],
   "source": [
    "#categorize decade\n",
    "cut_off = [1959, 1969, 1979, 1989, 1999, 2009, 2015]\n",
    "cut_lab = ['60s', '70s', '80s', '90s', '00s', '10s']"
   ]
  },
  {
   "cell_type": "code",
   "execution_count": 755,
   "metadata": {},
   "outputs": [
    {
     "name": "stderr",
     "output_type": "stream",
     "text": [
      "C:\\Users\\PC\\Anaconda3\\lib\\site-packages\\ipykernel_launcher.py:1: SettingWithCopyWarning: \n",
      "A value is trying to be set on a copy of a slice from a DataFrame.\n",
      "Try using .loc[row_indexer,col_indexer] = value instead\n",
      "\n",
      "See the caveats in the documentation: http://pandas.pydata.org/pandas-docs/stable/user_guide/indexing.html#returning-a-view-versus-a-copy\n",
      "  \"\"\"Entry point for launching an IPython kernel.\n"
     ]
    }
   ],
   "source": [
    "df_cast['decade'] = pd.cut(df_cast.release_year, cut_off, labels=cut_lab, include_lowest=False)"
   ]
  },
  {
   "cell_type": "code",
   "execution_count": 756,
   "metadata": {},
   "outputs": [
    {
     "data": {
      "text/html": [
       "<div>\n",
       "<style scoped>\n",
       "    .dataframe tbody tr th:only-of-type {\n",
       "        vertical-align: middle;\n",
       "    }\n",
       "\n",
       "    .dataframe tbody tr th {\n",
       "        vertical-align: top;\n",
       "    }\n",
       "\n",
       "    .dataframe thead th {\n",
       "        text-align: right;\n",
       "    }\n",
       "</style>\n",
       "<table border=\"1\" class=\"dataframe\">\n",
       "  <thead>\n",
       "    <tr style=\"text-align: right;\">\n",
       "      <th></th>\n",
       "      <th>original_title</th>\n",
       "      <th>cast</th>\n",
       "      <th>revenue</th>\n",
       "      <th>budget</th>\n",
       "      <th>revenue_adj</th>\n",
       "      <th>release_year</th>\n",
       "      <th>decade</th>\n",
       "    </tr>\n",
       "  </thead>\n",
       "  <tbody>\n",
       "    <tr>\n",
       "      <td>0</td>\n",
       "      <td>Jurassic World</td>\n",
       "      <td>Chris Pratt|Bryce Dallas Howard|Irrfan Khan|Vi...</td>\n",
       "      <td>1513528810</td>\n",
       "      <td>150000000</td>\n",
       "      <td>1.392446e+09</td>\n",
       "      <td>2015</td>\n",
       "      <td>10s</td>\n",
       "    </tr>\n",
       "    <tr>\n",
       "      <td>1</td>\n",
       "      <td>Mad Max: Fury Road</td>\n",
       "      <td>Tom Hardy|Charlize Theron|Hugh Keays-Byrne|Nic...</td>\n",
       "      <td>378436354</td>\n",
       "      <td>150000000</td>\n",
       "      <td>3.481613e+08</td>\n",
       "      <td>2015</td>\n",
       "      <td>10s</td>\n",
       "    </tr>\n",
       "    <tr>\n",
       "      <td>2</td>\n",
       "      <td>Insurgent</td>\n",
       "      <td>Shailene Woodley|Theo James|Kate Winslet|Ansel...</td>\n",
       "      <td>295238201</td>\n",
       "      <td>110000000</td>\n",
       "      <td>2.716190e+08</td>\n",
       "      <td>2015</td>\n",
       "      <td>10s</td>\n",
       "    </tr>\n",
       "    <tr>\n",
       "      <td>3</td>\n",
       "      <td>Star Wars: The Force Awakens</td>\n",
       "      <td>Harrison Ford|Mark Hamill|Carrie Fisher|Adam D...</td>\n",
       "      <td>2068178225</td>\n",
       "      <td>200000000</td>\n",
       "      <td>1.902723e+09</td>\n",
       "      <td>2015</td>\n",
       "      <td>10s</td>\n",
       "    </tr>\n",
       "    <tr>\n",
       "      <td>4</td>\n",
       "      <td>Furious 7</td>\n",
       "      <td>Vin Diesel|Paul Walker|Jason Statham|Michelle ...</td>\n",
       "      <td>1506249360</td>\n",
       "      <td>190000000</td>\n",
       "      <td>1.385749e+09</td>\n",
       "      <td>2015</td>\n",
       "      <td>10s</td>\n",
       "    </tr>\n",
       "  </tbody>\n",
       "</table>\n",
       "</div>"
      ],
      "text/plain": [
       "                 original_title  \\\n",
       "0                Jurassic World   \n",
       "1            Mad Max: Fury Road   \n",
       "2                     Insurgent   \n",
       "3  Star Wars: The Force Awakens   \n",
       "4                     Furious 7   \n",
       "\n",
       "                                                cast     revenue     budget  \\\n",
       "0  Chris Pratt|Bryce Dallas Howard|Irrfan Khan|Vi...  1513528810  150000000   \n",
       "1  Tom Hardy|Charlize Theron|Hugh Keays-Byrne|Nic...   378436354  150000000   \n",
       "2  Shailene Woodley|Theo James|Kate Winslet|Ansel...   295238201  110000000   \n",
       "3  Harrison Ford|Mark Hamill|Carrie Fisher|Adam D...  2068178225  200000000   \n",
       "4  Vin Diesel|Paul Walker|Jason Statham|Michelle ...  1506249360  190000000   \n",
       "\n",
       "    revenue_adj  release_year decade  \n",
       "0  1.392446e+09          2015    10s  \n",
       "1  3.481613e+08          2015    10s  \n",
       "2  2.716190e+08          2015    10s  \n",
       "3  1.902723e+09          2015    10s  \n",
       "4  1.385749e+09          2015    10s  "
      ]
     },
     "execution_count": 756,
     "metadata": {},
     "output_type": "execute_result"
    }
   ],
   "source": [
    "df_cast.head()"
   ]
  },
  {
   "cell_type": "markdown",
   "metadata": {},
   "source": [
    "#### 3.2.3. Split names"
   ]
  },
  {
   "cell_type": "code",
   "execution_count": 757,
   "metadata": {},
   "outputs": [],
   "source": [
    "df_cast_clean = pd.DataFrame(df_cast.cast.str.split(\"|\").tolist(), \n",
    "             index = [df_cast.original_title,\n",
    "                     df_cast.revenue,\n",
    "                     df_cast.budget,\n",
    "                     df_cast.revenue_adj,\n",
    "                     df_cast.decade]).stack()"
   ]
  },
  {
   "cell_type": "code",
   "execution_count": 758,
   "metadata": {},
   "outputs": [
    {
     "data": {
      "text/plain": [
       "original_title            revenue     budget     revenue_adj   decade   \n",
       "Jurassic World            1513528810  150000000  1.392446e+09  10s     0            Chris Pratt\n",
       "                                                                       1    Bryce Dallas Howard\n",
       "                                                                       2            Irrfan Khan\n",
       "                                                                       3      Vincent D'Onofrio\n",
       "                                                                       4          Nick Robinson\n",
       "                                                                                   ...         \n",
       "Manos: The Hands of Fate  0           19000      0.000000e+00  60s     0       Harold P. Warren\n",
       "                                                                       1             Tom Neyman\n",
       "                                                                       2          John Reynolds\n",
       "                                                                       3           Diane Mahree\n",
       "                                                                       4      Stephanie Nielson\n",
       "Length: 25629, dtype: object"
      ]
     },
     "execution_count": 758,
     "metadata": {},
     "output_type": "execute_result"
    }
   ],
   "source": [
    "df_cast_clean"
   ]
  },
  {
   "cell_type": "code",
   "execution_count": 759,
   "metadata": {},
   "outputs": [],
   "source": [
    "df_cast_analyse = df_cast_clean.reset_index([0, \n",
    "                          'original_title',\n",
    "                          'revenue',\n",
    "                          'budget',\n",
    "                          'revenue_adj',\n",
    "                          'decade'])"
   ]
  },
  {
   "cell_type": "code",
   "execution_count": 760,
   "metadata": {},
   "outputs": [],
   "source": [
    "df_cast_analyse.columns = ['original_title',\n",
    "                          'revenue',\n",
    "                          'budget',\n",
    "                          'revenue_adj',\n",
    "                          'decade', \n",
    "                          'cast_name']"
   ]
  },
  {
   "cell_type": "code",
   "execution_count": 761,
   "metadata": {},
   "outputs": [
    {
     "data": {
      "text/plain": [
       "array(['Chris Pratt', 'Bryce Dallas Howard', 'Irrfan Khan', ...,\n",
       "       'John Reynolds', 'Diane Mahree', 'Stephanie Nielson'], dtype=object)"
      ]
     },
     "execution_count": 761,
     "metadata": {},
     "output_type": "execute_result"
    }
   ],
   "source": [
    "df_cast_analyse.cast_name.unique()"
   ]
  },
  {
   "cell_type": "markdown",
   "metadata": {},
   "source": [
    "#### 3.2.4. Results and visualizations"
   ]
  },
  {
   "cell_type": "code",
   "execution_count": 762,
   "metadata": {},
   "outputs": [],
   "source": [
    "df_cast_result = df_cast_analyse.groupby(['decade', 'cast_name']).sum()"
   ]
  },
  {
   "cell_type": "code",
   "execution_count": 783,
   "metadata": {},
   "outputs": [],
   "source": [
    "# All cast name is indexed in each decade, drop non-relevant names\n",
    "df_cast_result.dropna(inplace = True)"
   ]
  },
  {
   "cell_type": "code",
   "execution_count": 784,
   "metadata": {},
   "outputs": [],
   "source": [
    "#define top n number\n",
    "n = 20"
   ]
  },
  {
   "cell_type": "code",
   "execution_count": 785,
   "metadata": {},
   "outputs": [],
   "source": [
    "df_cast_plot_reven = df_cast_result.sort_values(by='revenue', ascending=False)[:n]\n",
    "df_cast_plot_adj = df_cast_result.sort_values(by='revenue_adj', ascending=False)[:n]"
   ]
  },
  {
   "cell_type": "code",
   "execution_count": 786,
   "metadata": {
    "scrolled": false
   },
   "outputs": [
    {
     "data": {
      "text/plain": [
       "MultiIndex([('60s',               'Adam West'),\n",
       "            ('60s',             'Adolfo Celi'),\n",
       "            ('60s',          'Agnes Flanagan'),\n",
       "            ('60s',       'Akiko Wakabayashi'),\n",
       "            ('60s',              'Alan Arkin'),\n",
       "            ('60s',              'Alan Badel'),\n",
       "            ('60s',              'Alan Bates'),\n",
       "            ('60s',              'Alan Young'),\n",
       "            ('60s',           'Albert Finney'),\n",
       "            ('60s',           'Alberto Sordi'),\n",
       "            ...\n",
       "            ('10s',            'Zoe Aggeliki'),\n",
       "            ('10s',               'Zoe Kazan'),\n",
       "            ('10s',             'Zoe Saldana'),\n",
       "            ('10s',              'Zoe Sloane'),\n",
       "            ('10s',            'Zoe Ventoura'),\n",
       "            ('10s',         'Zooey Deschanel'),\n",
       "            ('10s',               'ZoÃ« Bell'),\n",
       "            ('10s',              'ZoÃ« Borde'),\n",
       "            ('10s',            'ZoÃ« Kravitz'),\n",
       "            ('10s', 'Ã“lafur Darri Ã“lafsson')],\n",
       "           names=['decade', 'cast_name'], length=13242)"
      ]
     },
     "execution_count": 786,
     "metadata": {},
     "output_type": "execute_result"
    }
   ],
   "source": [
    "df_cast_result.index"
   ]
  },
  {
   "cell_type": "code",
   "execution_count": 787,
   "metadata": {},
   "outputs": [],
   "source": [
    "df_cast_plot_reven = pd.DataFrame({})"
   ]
  },
  {
   "cell_type": "code",
   "execution_count": 788,
   "metadata": {
    "scrolled": false
   },
   "outputs": [],
   "source": [
    "for i in cut_lab:\n",
    "    df_cast_plot_reven = df_cast_plot_reven.append(df_cast_result.query('decade == \"{}\"'.format(i)).sort_values(by = 'revenue', ascending = False)[:3])"
   ]
  },
  {
   "cell_type": "code",
   "execution_count": 789,
   "metadata": {},
   "outputs": [],
   "source": [
    "df_cast_plot_reven.reset_index([0, 'decade', 'cast_name'], inplace=True)"
   ]
  },
  {
   "cell_type": "code",
   "execution_count": 790,
   "metadata": {},
   "outputs": [
    {
     "data": {
      "text/html": [
       "<div>\n",
       "<style scoped>\n",
       "    .dataframe tbody tr th:only-of-type {\n",
       "        vertical-align: middle;\n",
       "    }\n",
       "\n",
       "    .dataframe tbody tr th {\n",
       "        vertical-align: top;\n",
       "    }\n",
       "\n",
       "    .dataframe thead th {\n",
       "        text-align: right;\n",
       "    }\n",
       "</style>\n",
       "<table border=\"1\" class=\"dataframe\">\n",
       "  <thead>\n",
       "    <tr style=\"text-align: right;\">\n",
       "      <th></th>\n",
       "      <th>decade</th>\n",
       "      <th>cast_name</th>\n",
       "      <th>revenue</th>\n",
       "      <th>budget</th>\n",
       "      <th>revenue_adj</th>\n",
       "    </tr>\n",
       "  </thead>\n",
       "  <tbody>\n",
       "    <tr>\n",
       "      <td>0</td>\n",
       "      <td>60s</td>\n",
       "      <td>Sean Connery</td>\n",
       "      <td>5.231792e+08</td>\n",
       "      <td>2.973516e+07</td>\n",
       "      <td>3.625246e+09</td>\n",
       "    </tr>\n",
       "    <tr>\n",
       "      <td>1</td>\n",
       "      <td>60s</td>\n",
       "      <td>Julie Andrews</td>\n",
       "      <td>2.784870e+08</td>\n",
       "      <td>1.720000e+07</td>\n",
       "      <td>1.935874e+09</td>\n",
       "    </tr>\n",
       "    <tr>\n",
       "      <td>2</td>\n",
       "      <td>60s</td>\n",
       "      <td>Rod Taylor</td>\n",
       "      <td>2.272835e+08</td>\n",
       "      <td>7.250000e+06</td>\n",
       "      <td>1.656010e+09</td>\n",
       "    </tr>\n",
       "    <tr>\n",
       "      <td>3</td>\n",
       "      <td>70s</td>\n",
       "      <td>Richard Dreyfuss</td>\n",
       "      <td>8.894426e+08</td>\n",
       "      <td>2.777700e+07</td>\n",
       "      <td>3.564754e+09</td>\n",
       "    </tr>\n",
       "    <tr>\n",
       "      <td>4</td>\n",
       "      <td>70s</td>\n",
       "      <td>Harrison Ford</td>\n",
       "      <td>7.870480e+08</td>\n",
       "      <td>1.760000e+07</td>\n",
       "      <td>2.833426e+09</td>\n",
       "    </tr>\n",
       "    <tr>\n",
       "      <td>5</td>\n",
       "      <td>70s</td>\n",
       "      <td>Alec Guinness</td>\n",
       "      <td>7.753980e+08</td>\n",
       "      <td>1.100000e+07</td>\n",
       "      <td>2.789712e+09</td>\n",
       "    </tr>\n",
       "    <tr>\n",
       "      <td>6</td>\n",
       "      <td>80s</td>\n",
       "      <td>Harrison Ford</td>\n",
       "      <td>2.530485e+09</td>\n",
       "      <td>2.323500e+08</td>\n",
       "      <td>5.582693e+09</td>\n",
       "    </tr>\n",
       "    <tr>\n",
       "      <td>7</td>\n",
       "      <td>80s</td>\n",
       "      <td>Carrie Fisher</td>\n",
       "      <td>1.280610e+09</td>\n",
       "      <td>9.075000e+07</td>\n",
       "      <td>2.985846e+09</td>\n",
       "    </tr>\n",
       "    <tr>\n",
       "      <td>8</td>\n",
       "      <td>80s</td>\n",
       "      <td>Eddie Murphy</td>\n",
       "      <td>1.234294e+09</td>\n",
       "      <td>1.886000e+08</td>\n",
       "      <td>2.454557e+09</td>\n",
       "    </tr>\n",
       "    <tr>\n",
       "      <td>9</td>\n",
       "      <td>90s</td>\n",
       "      <td>Tom Hanks</td>\n",
       "      <td>3.455048e+09</td>\n",
       "      <td>5.560000e+08</td>\n",
       "      <td>4.860177e+09</td>\n",
       "    </tr>\n",
       "    <tr>\n",
       "      <td>10</td>\n",
       "      <td>90s</td>\n",
       "      <td>Bruce Willis</td>\n",
       "      <td>2.973743e+09</td>\n",
       "      <td>1.075500e+09</td>\n",
       "      <td>4.154250e+09</td>\n",
       "    </tr>\n",
       "    <tr>\n",
       "      <td>11</td>\n",
       "      <td>90s</td>\n",
       "      <td>Sandra Bullock</td>\n",
       "      <td>2.473799e+09</td>\n",
       "      <td>5.600000e+08</td>\n",
       "      <td>3.512156e+09</td>\n",
       "    </tr>\n",
       "    <tr>\n",
       "      <td>12</td>\n",
       "      <td>00s</td>\n",
       "      <td>Orlando Bloom</td>\n",
       "      <td>6.367353e+09</td>\n",
       "      <td>1.282700e+09</td>\n",
       "      <td>7.338852e+09</td>\n",
       "    </tr>\n",
       "    <tr>\n",
       "      <td>13</td>\n",
       "      <td>00s</td>\n",
       "      <td>Emma Watson</td>\n",
       "      <td>5.461939e+09</td>\n",
       "      <td>9.650000e+08</td>\n",
       "      <td>6.164925e+09</td>\n",
       "    </tr>\n",
       "    <tr>\n",
       "      <td>14</td>\n",
       "      <td>00s</td>\n",
       "      <td>Daniel Radcliffe</td>\n",
       "      <td>5.411108e+09</td>\n",
       "      <td>9.090000e+08</td>\n",
       "      <td>6.113447e+09</td>\n",
       "    </tr>\n",
       "    <tr>\n",
       "      <td>15</td>\n",
       "      <td>10s</td>\n",
       "      <td>Robert Downey Jr.</td>\n",
       "      <td>5.394082e+09</td>\n",
       "      <td>1.140500e+09</td>\n",
       "      <td>5.110719e+09</td>\n",
       "    </tr>\n",
       "    <tr>\n",
       "      <td>16</td>\n",
       "      <td>10s</td>\n",
       "      <td>Scarlett Johansson</td>\n",
       "      <td>4.945435e+09</td>\n",
       "      <td>1.013300e+09</td>\n",
       "      <td>4.652945e+09</td>\n",
       "    </tr>\n",
       "    <tr>\n",
       "      <td>17</td>\n",
       "      <td>10s</td>\n",
       "      <td>Dwayne Johnson</td>\n",
       "      <td>4.801249e+09</td>\n",
       "      <td>1.137000e+09</td>\n",
       "      <td>4.504138e+09</td>\n",
       "    </tr>\n",
       "  </tbody>\n",
       "</table>\n",
       "</div>"
      ],
      "text/plain": [
       "   decade           cast_name       revenue        budget   revenue_adj\n",
       "0     60s        Sean Connery  5.231792e+08  2.973516e+07  3.625246e+09\n",
       "1     60s       Julie Andrews  2.784870e+08  1.720000e+07  1.935874e+09\n",
       "2     60s          Rod Taylor  2.272835e+08  7.250000e+06  1.656010e+09\n",
       "3     70s    Richard Dreyfuss  8.894426e+08  2.777700e+07  3.564754e+09\n",
       "4     70s       Harrison Ford  7.870480e+08  1.760000e+07  2.833426e+09\n",
       "5     70s       Alec Guinness  7.753980e+08  1.100000e+07  2.789712e+09\n",
       "6     80s       Harrison Ford  2.530485e+09  2.323500e+08  5.582693e+09\n",
       "7     80s       Carrie Fisher  1.280610e+09  9.075000e+07  2.985846e+09\n",
       "8     80s        Eddie Murphy  1.234294e+09  1.886000e+08  2.454557e+09\n",
       "9     90s           Tom Hanks  3.455048e+09  5.560000e+08  4.860177e+09\n",
       "10    90s        Bruce Willis  2.973743e+09  1.075500e+09  4.154250e+09\n",
       "11    90s      Sandra Bullock  2.473799e+09  5.600000e+08  3.512156e+09\n",
       "12    00s       Orlando Bloom  6.367353e+09  1.282700e+09  7.338852e+09\n",
       "13    00s         Emma Watson  5.461939e+09  9.650000e+08  6.164925e+09\n",
       "14    00s    Daniel Radcliffe  5.411108e+09  9.090000e+08  6.113447e+09\n",
       "15    10s   Robert Downey Jr.  5.394082e+09  1.140500e+09  5.110719e+09\n",
       "16    10s  Scarlett Johansson  4.945435e+09  1.013300e+09  4.652945e+09\n",
       "17    10s      Dwayne Johnson  4.801249e+09  1.137000e+09  4.504138e+09"
      ]
     },
     "execution_count": 790,
     "metadata": {},
     "output_type": "execute_result"
    }
   ],
   "source": [
    "df_cast_plot_reven"
   ]
  },
  {
   "cell_type": "code",
   "execution_count": 791,
   "metadata": {},
   "outputs": [],
   "source": [
    "lct = [0,1,2,3,4,5,6,7,8,9,10,11,12,13,14,15,16,17]\n",
    "# Need to be set for there are duplicated names accross decades like Harrison Ford"
   ]
  },
  {
   "cell_type": "code",
   "execution_count": 792,
   "metadata": {
    "scrolled": false
   },
   "outputs": [
    {
     "data": {
      "image/png": "[encoded data removed]",
      "text/plain": [
       "<Figure size 2880x720 with 1 Axes>"
      ]
     },
     "metadata": {
      "needs_background": "light"
     },
     "output_type": "display_data"
    }
   ],
   "source": [
    "plt.figure(figsize = (40, 10))\n",
    "plt.bar(x = lct, height=df_cast_plot_reven['revenue'], tick_label = df_cast_plot_reven.cast_name)\n",
    "plt.show()"
   ]
  },
  {
   "cell_type": "code",
   "execution_count": 793,
   "metadata": {},
   "outputs": [],
   "source": [
    "df_cast_plot_adj = pd.DataFrame({})\n",
    "for i in cut_lab:\n",
    "    df_cast_plot_adj = df_cast_plot_adj.append(df_cast_result.query('decade == \"{}\"'.format(i)).sort_values(by = 'revenue_adj', ascending = False)[:3])"
   ]
  },
  {
   "cell_type": "code",
   "execution_count": 794,
   "metadata": {},
   "outputs": [],
   "source": [
    "df_cast_plot_adj.reset_index([0, 'decade', 'cast_name'], inplace = True)"
   ]
  },
  {
   "cell_type": "code",
   "execution_count": 795,
   "metadata": {},
   "outputs": [
    {
     "data": {
      "text/plain": [
       "<BarContainer object of 18 artists>"
      ]
     },
     "execution_count": 795,
     "metadata": {},
     "output_type": "execute_result"
    },
    {
     "data": {
      "image/png": "[encoded data removed]",
      "text/plain": [
       "<Figure size 2880x720 with 1 Axes>"
      ]
     },
     "metadata": {
      "needs_background": "light"
     },
     "output_type": "display_data"
    }
   ],
   "source": [
    "plt.figure(figsize = (40, 10))\n",
    "plt.bar(x = lct, height = df_cast_plot_adj.revenue_adj, tick_label = df_cast_plot_adj.cast_name)"
   ]
  },
  {
   "cell_type": "code",
   "execution_count": 796,
   "metadata": {},
   "outputs": [
    {
     "data": {
      "text/plain": [
       "{'Alec Guinness', 'Eddie Murphy', 'Sandra Bullock'}"
      ]
     },
     "execution_count": 796,
     "metadata": {},
     "output_type": "execute_result"
    }
   ],
   "source": [
    "set(list(df_cast_plot_reven.cast_name)).difference(list(df_cast_plot_adj.cast_name))"
   ]
  },
  {
   "cell_type": "code",
   "execution_count": null,
   "metadata": {},
   "outputs": [],
   "source": []
  },
  {
   "cell_type": "markdown",
   "metadata": {},
   "source": [
    "<a id='conclusions'></a>\n",
    "## 4. Conclusions"
   ]
  },
  {
   "cell_type": "markdown",
   "metadata": {},
   "source": [
    "### 4.1. The most revenues are acquired by large franchises like Starwar, Harry Potter and many trilogies. Although commertial movies achieves great margin, small budget films are more likely to have a higher ratio of payback."
   ]
  },
  {
   "cell_type": "markdown",
   "metadata": {},
   "source": [
    "### 4.2. The most profitable actors/actresses are as listed. Note that considering inflation, the overall income of casts are still rising. Harrison Ford may be an exception for his peak lasts two decades."
   ]
  },
  {
   "cell_type": "markdown",
   "metadata": {},
   "source": [
    "## Submitting your Project \n",
    "\n",
    "> Before you submit your project, you need to create a .html or .pdf version of this notebook in the workspace here. To do that, run the code cell below. If it worked correctly, you should get a return code of 0, and you should see the generated .html file in the workspace directory (click on the orange Jupyter icon in the upper left).\n",
    "\n",
    "> Alternatively, you can download this report as .html via the **File** > **Download as** submenu, and then manually upload it into the workspace directory by clicking on the orange Jupyter icon in the upper left, then using the Upload button.\n",
    "\n",
    "> Once you've done this, you can submit your project by clicking on the \"Submit Project\" button in the lower right here. This will create and submit a zip file with this .ipynb doc and the .html or .pdf version you created. Congratulations!"
   ]
  },
  {
   "cell_type": "code",
   "execution_count": null,
   "metadata": {
    "collapsed": true
   },
   "outputs": [],
   "source": [
    "from subprocess import call\n",
    "call(['python', '-m', 'nbconvert', 'Investigate_a_Dataset.ipynb'])"
   ]
  }
 ],
 "metadata": {
  "kernelspec": {
   "display_name": "Python 3",
   "language": "python",
   "name": "python3"
  },
  "language_info": {
   "codemirror_mode": {
    "name": "ipython",
    "version": 3
   },
   "file_extension": ".py",
   "mimetype": "text/x-python",
   "name": "python",
   "nbconvert_exporter": "python",
   "pygments_lexer": "ipython3",
   "version": "3.7.4"
  }
 },
 "nbformat": 4,
 "nbformat_minor": 2
}
